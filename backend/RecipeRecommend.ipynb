{
 "cells": [
  {
   "cell_type": "code",
   "execution_count": 1,
   "id": "1a0f703f",
   "metadata": {},
   "outputs": [],
   "source": [
    "import nltk\n",
    "import pandas as pd\n",
    "import unidecode, ast\n",
    "import string\n",
    "import re\n",
    "\n",
    "from sklearn.neighbors import NearestNeighbors\n",
    "from nltk.corpus import wordnet\n",
    "from nltk.stem.wordnet import WordNetLemmatizer\n",
    "import tensorflow as tf\n",
    "import tensorflow_hub as hub"
   ]
  },
  {
   "cell_type": "code",
   "execution_count": 75,
   "id": "3932b825",
   "metadata": {},
   "outputs": [
    {
     "name": "stdout",
     "output_type": "stream",
     "text": [
      "0       Roast duck with Marsala gravy ['1 x 1.6kg whol...\n",
      "1       Best-ever Brussels sprouts ['800 g Brussels sp...\n",
      "2       Beautiful courgette carbonara ['6 medium green...\n",
      "3       Roasted black bean burgers ['1½ red onions', '...\n",
      "4       Chicken & tofu noodle soup ['2 shallots', '2 c...\n",
      "                              ...                        \n",
      "4642    Thai-Style Steamed Pumpkin Cake Recipe - Allre...\n",
      "4643    Delicious Spicy Tomato Salad Recipe - Allrecip...\n",
      "4644    Spicy Sriracha Meatballs Recipe - Allrecipes.c...\n",
      "4645    Ajad (Authentic Thai Cucumber Salad) Recipe - ...\n",
      "4646    Sweet Thai-Style Chicken Bowl Recipe - Allreci...\n",
      "Length: 4647, dtype: object\n"
     ]
    }
   ],
   "source": [
    "vocabulary = nltk.FreqDist()\n",
    "recipe_df = pd.read_csv(\"df_recipes.csv\")\n",
    "print(recipe_df.recipe_name + \" \"+ recipe_df.ingredients)"
   ]
  },
  {
   "cell_type": "code",
   "execution_count": null,
   "id": "56da3c75",
   "metadata": {},
   "outputs": [],
   "source": [
    "model_url = \"https://tfhub.dev/google/universal-sentence-encoder/4\"\n",
    "model = hub.load(model_url)"
   ]
  },
  {
   "cell_type": "code",
   "execution_count": 51,
   "id": "d0e39a0f",
   "metadata": {},
   "outputs": [
    {
     "name": "stdout",
     "output_type": "stream",
     "text": [
      "cup;7546\n",
      "teaspoon;6254\n",
      "tablespoons;4510\n",
      "fresh;3766\n",
      "[\"1;3665\n",
      "'1;3163\n",
      "tablespoon;3061\n",
      "ground;3048\n",
      "ounce);3037\n",
      "and;2687\n",
      "cups;2584\n",
      "to;2548\n",
      "of;2317\n",
      "or;2144\n",
      ",;2016\n",
      "g;1991\n",
      "chopped;1983\n",
      "olive;1853\n",
      "red;1830\n",
      "teaspoons;1715\n",
      "black;1701\n",
      "'2;1624\n",
      "1/2;1589\n",
      "dried;1582\n",
      "white;1529\n",
      "cloves;1470\n",
      "garlic,;1278\n",
      "pepper;1243\n",
      "taste\"];1183\n",
      "pound;1174\n",
      "large;1166\n",
      "can;1096\n",
      "into;1086\n",
      "onion,;1063\n",
      "grated;1057\n",
      "chicken;1043\n",
      "cut;987\n",
      "Parmesan;910\n",
      "green;907\n",
      "oil',;899\n",
      "package;882\n",
      "chopped\",\"1;873\n",
      "vegetable;828\n",
      "finely;817\n",
      "small;785\n",
      "ounces;760\n",
      "bunch;733\n",
      "as;729\n",
      "sliced;679\n",
      "pinch;671\n",
      "peeled;640\n",
      "tomato;619\n",
      "'½;614\n",
      "Italian;606\n",
      "shredded;592\n",
      "whole;567\n",
      "minced;554\n",
      "'4;550\n",
      "all-purpose;517\n",
      "garlic;503\n",
      "pepper,;496\n",
      "pounds;488\n",
      "for;484\n",
      "(16;484\n",
      "a;474\n",
      "dry;470\n",
      "more;466\n",
      "cheese\",\"1;465\n",
      "mozzarella;460\n",
      "bell;456\n",
      "tomatoes,;453\n",
      "'olive;444\n",
      "lemon;431\n",
      "(8;423\n",
      "garlic',;420\n",
      "cheese,;420\n",
      "'3;419\n",
      "diced;418\n",
      "thinly;415\n",
      "x;406\n",
      "oil\",\"1;404\n",
      "sprigs;403\n",
      "clove;403\n",
      "boneless;397\n",
      "chile;391\n",
      "sauce\",\"1;387\n",
      "freshly;385\n",
      "ml;366\n",
      "chopped\",\"2;364\n",
      "oil,;363\n",
      "oil\",\"2;361\n",
      "virgin;356\n",
      "medium;332\n",
      "curry;327\n",
      "crushed;325\n",
      "cans;325\n",
      "slices;324\n",
      "soy;315\n",
      "leaves;307\n",
      "sliced\",\"1;303\n",
      "taste\",\"1;301\n",
      "cheese\",\"2;297\n",
      "skinless,;295\n",
      "bread;293\n",
      "frozen;291\n",
      "from;285\n",
      "1/4;278\n",
      "onions,;277\n",
      "bay;273\n",
      "-;271\n",
      "piece;270\n",
      "salt\",\"1;270\n",
      "free-range;269\n",
      "extra;267\n",
      "breast;265\n",
      "(15;263\n",
      "powder\",\"1;262\n",
      "salt\",\"1/2;261\n",
      "ginger;258\n",
      "handful;257\n",
      "sugar\",\"1;257\n",
      "pepper\",\"1;257\n",
      "tomatoes\",\"1;257\n",
      "peppers,;256\n",
      "sustainable;255\n",
      "plain;254\n",
      "basil;252\n",
      "minced\",\"1;252\n",
      "yellow;250\n",
      "cumin;250\n",
      "oil\",\"1/2;250\n",
      "water\",\"1;246\n",
      "higher-welfare;245\n",
      "jar;244\n",
      "wine;244\n",
      "ricotta;242\n",
      "extra-virgin;238\n",
      "tomatoes',;237\n",
      "diced\",\"1;236\n",
      "onions',;235\n",
      "pepper',;234\n",
      "baking;234\n",
      "ripe;231\n",
      "cayenne;231\n",
      "drained\",\"1;231\n",
      "(6;230\n",
      "chopped',;227\n",
      "salt\",\"2;227\n",
      "pasta\",\"1;225\n",
      "egg;220\n",
      "heavy;220\n",
      "sweet;219\n",
      "cheese;219\n",
      "pork;218\n",
      "minced\",\"2;218\n",
      "brown;217\n",
      "cheese\",\"1/2;216\n",
      "'6;213\n",
      "(28;213\n",
      "seeds',;212\n",
      "drained;212\n",
      "'100;210\n",
      "['1;209\n",
      "oil;209\n",
      "coconut;208\n",
      "garam;206\n",
      "'extra;206\n",
      "(14.5;206\n",
      "oil\",\"3;202\n",
      "sesame;200\n",
      "heaped;199\n",
      "'a;198\n",
      "inch);198\n",
      "water\",\"2;198\n",
      "pepper\",\"1/2;198\n",
      "beef;197\n",
      "the;197\n",
      "vanilla;196\n",
      "chopped\",\"1/2;196\n",
      "'200;195\n",
      "unsalted;194\n",
      "in;194\n",
      "rice;193\n",
      "kg;193\n",
      "flat-leaf;193\n",
      "cheese\",\"1/4;193\n",
      "cooked;192\n",
      "butter,;192\n",
      "(such;192\n",
      "pepper\",\"2;192\n",
      "lemon',;189\n",
      "salt\",\"1/4;185\n",
      "uncooked;184\n",
      "inch;184\n",
      "chilli',;182\n",
      "vinegar',;182\n",
      "(14;182\n",
      "baby;181\n",
      "mushrooms,;181\n",
      "paste\",\"1;181\n"
     ]
    }
   ],
   "source": [
    "for ingredients in recipe_df['ingredients']:\n",
    "    ingredients = ingredients.split()\n",
    "    vocabulary.update(ingredients)\n",
    "for word, frequency in vocabulary.most_common(200):\n",
    "    print(f'{word};{frequency}')"
   ]
  },
  {
   "cell_type": "code",
   "execution_count": 52,
   "id": "7ce34314",
   "metadata": {},
   "outputs": [],
   "source": [
    "def ingredient_parser(ingreds):\n",
    "    '''\n",
    "    \n",
    "    This function takes in a list (but it is a string as it comes from pandas dataframe) of \n",
    "       ingredients and performs some preprocessing. \n",
    "       For example:\n",
    "       input = '['1 x 1.6kg whole duck', '2 heaped teaspoons Chinese five-spice powder', '1 clementine',\n",
    "                 '6 fresh bay leaves', 'GRAVY', '', '1 bulb of garlic', '2 carrots', '2 red onions', \n",
    "                 '3 tablespoons plain flour', '100 ml Marsala', '1 litre organic chicken stock']'\n",
    "       \n",
    "       output = ['duck', 'chinese five spice powder', 'clementine', 'fresh bay leaf', 'gravy', 'garlic',\n",
    "                 'carrot', 'red onion', 'plain flour', 'marsala', 'organic chicken stock']\n",
    "    '''\n",
    "    measures = ['teaspoon', 't', 'tsp.', 'tablespoon', 'T', 'tbl.', 'tb', 'tbsp.', 'fluid ounce', 'fl oz', 'gill', 'cup', 'c', 'pint', 'p', 'pt', 'fl pt', 'quart', 'q', 'qt', 'fl qt', 'gallon', 'g', 'gal', 'ml', 'milliliter', 'millilitre', 'cc', 'mL', 'l', 'liter', 'litre', 'L', 'dl', 'deciliter', 'decilitre', 'dL', 'bulb', 'level', 'heaped', 'rounded', 'whole', 'pinch', 'medium', 'slice', 'pound', 'lb', '#', 'ounce', 'oz', 'mg', 'milligram', 'milligramme', 'g', 'gram', 'gramme', 'kg', 'kilogram', 'kilogramme', 'x', 'of', 'mm', 'millimetre', 'millimeter', 'cm', 'centimeter', 'centimetre', 'm', 'meter', 'metre', 'inch', 'in', 'milli', 'centi', 'deci', 'hecto', 'kilo']\n",
    "    words_to_remove = ['fresh', 'oil', 'a', 'red', 'bunch', 'and', 'clove', 'or', 'leaf', 'chilli', 'large', 'extra', 'sprig', 'ground', 'handful', 'free', 'small', 'pepper', 'virgin', 'range', 'from', 'dried', 'sustainable', 'black', 'peeled', 'higher', 'welfare', 'seed', 'for', 'finely', 'freshly', 'sea', 'quality', 'white', 'ripe', 'few', 'piece', 'source', 'to', 'organic', 'flat', 'smoked', 'ginger', 'sliced', 'green', 'picked', 'the', 'stick', 'plain', 'plus', 'mixed', 'mint', 'bay', 'basil', 'your', 'cumin', 'optional', 'fennel', 'serve', 'mustard', 'unsalted', 'baby', 'paprika', 'fat', 'ask', 'natural', 'skin', 'roughly', 'into', 'such', 'cut', 'good', 'brown', 'grated', 'trimmed', 'oregano', 'powder', 'yellow', 'dusting', 'knob', 'frozen', 'on', 'deseeded', 'low', 'runny', 'balsamic', 'cooked', 'streaky', 'nutmeg', 'sage', 'rasher', 'zest', 'pin', 'groundnut', 'breadcrumb', 'turmeric', 'halved', 'grating', 'stalk', 'light', 'tinned', 'dry', 'soft', 'rocket', 'bone', 'colour', 'washed', 'skinless', 'leftover', 'splash', 'removed', 'dijon', 'thick', 'big', 'hot', 'drained', 'sized', 'chestnut', 'watercress', 'fishmonger', 'english', 'dill', 'caper', 'raw', 'worcestershire', 'flake', 'cider', 'cayenne', 'tbsp', 'leg', 'pine', 'wild', 'if', 'fine', 'herb', 'almond', 'shoulder', 'cube', 'dressing', 'with', 'chunk', 'spice', 'thumb', 'garam', 'new', 'little', 'punnet', 'peppercorn', 'shelled', 'saffron', 'other''chopped', 'salt', 'olive', 'taste', 'can', 'sauce', 'water', 'diced', 'package', 'italian', 'shredded', 'divided', 'parsley', 'vinegar', 'all', 'purpose', 'crushed', 'juice', 'more', 'coriander', 'bell', 'needed', 'thinly', 'boneless', 'half', 'thyme', 'cubed', 'cinnamon', 'cilantro', 'jar', 'seasoning', 'rosemary', 'extract', 'sweet', 'baking', 'beaten', 'heavy', 'seeded', 'tin', 'vanilla', 'uncooked', 'crumb', 'style', 'thin', 'nut', 'coarsely', 'spring', 'chili', 'cornstarch', 'strip', 'cardamom', 'rinsed', 'honey', 'cherry', 'root', 'quartered', 'head', 'softened', 'container', 'crumbled', 'frying', 'lean', 'cooking', 'roasted', 'warm', 'whipping', 'thawed', 'corn', 'pitted', 'sun', 'kosher', 'bite', 'toasted', 'lasagna', 'split', 'melted', 'degree', 'lengthwise', 'romano', 'packed', 'pod', 'anchovy', 'rom', 'prepared', 'juiced', 'fluid', 'floret', 'room', 'active', 'seasoned', 'mix', 'deveined', 'lightly', 'anise', 'thai', 'size', 'unsweetened', 'torn', 'wedge', 'sour', 'basmati', 'marinara', 'dark', 'temperature', 'garnish', 'bouillon', 'loaf', 'shell', 'reggiano', 'canola', 'parmigiano', 'round', 'canned', 'ghee', 'crust', 'long', 'broken', 'ketchup', 'bulk', 'cleaned', 'condensed', 'sherry', 'provolone', 'cold', 'soda', 'cottage', 'spray', 'tamarind', 'pecorino', 'shortening', 'part', 'bottle', 'sodium', 'cocoa', 'grain', 'french', 'roast', 'stem', 'link', 'firm', 'asafoetida', 'mild', 'dash', 'boiling']\n",
    "   \n",
    "    if isinstance(ingreds, list):\n",
    "        ingredients = ingreds\n",
    "    else:\n",
    "        ingredients = ast.literal_eval(ingreds)\n",
    "   \n",
    "    translator = str.maketrans('', '', string.punctuation)\n",
    "    lemmatizer = WordNetLemmatizer()\n",
    "    ingred_list = []\n",
    "    \n",
    "    \n",
    "    for i in ingredients:\n",
    "        i.translate(translator)\n",
    "        items = re.split(' |-', i)\n",
    "        items = [word for word in items if word.isalpha()]\n",
    "        items = [word.lower() for word in items]\n",
    "        items = [unidecode.unidecode(word) for word in items]\n",
    "        items = [lemmatizer.lemmatize(word) for word in items]\n",
    "        items = [word for word in items if word not in measures]\n",
    "        items = [word for word in items if word not in words_to_remove]\n",
    "        if items:\n",
    "            ingred_list.append(' '.join(items)) \n",
    "    ingred_list = \" \".join(ingred_list)\n",
    "    return ingred_list\n",
    "\n",
    "\n",
    "recipe_df['ingredients_parsed'] = recipe_df['ingredients'].apply(lambda x: ingredient_parser(x))\n",
    "df = recipe_df[['recipe_name', 'ingredients_parsed', 'ingredients', 'recipe_urls']]\n",
    "df = recipe_df.dropna()\n",
    "\n",
    "m = df.recipe_name.str.endswith('Recipe - Allrecipes.com')\n",
    "df['recipe_name'].loc[m] = df.recipe_name.loc[m].str[:-23]      "
   ]
  },
  {
   "cell_type": "code",
   "execution_count": 53,
   "id": "2bf7768a",
   "metadata": {},
   "outputs": [],
   "source": [
    "def embed(texts):\n",
    "    return model(texts)\n"
   ]
  },
  {
   "cell_type": "code",
   "execution_count": 54,
   "id": "17e29fc2",
   "metadata": {},
   "outputs": [
    {
     "data": {
      "text/plain": [
       "TensorShape([4647, 512])"
      ]
     },
     "execution_count": 54,
     "metadata": {},
     "output_type": "execute_result"
    }
   ],
   "source": [
    "embeddings = embed(recipe_df['ingredients_parsed'])\n",
    "embeddings.shape"
   ]
  },
  {
   "cell_type": "code",
   "execution_count": 55,
   "id": "a8d6f7d5",
   "metadata": {},
   "outputs": [
    {
     "data": {
      "text/html": [
       "<style>#sk-container-id-3 {color: black;background-color: white;}#sk-container-id-3 pre{padding: 0;}#sk-container-id-3 div.sk-toggleable {background-color: white;}#sk-container-id-3 label.sk-toggleable__label {cursor: pointer;display: block;width: 100%;margin-bottom: 0;padding: 0.3em;box-sizing: border-box;text-align: center;}#sk-container-id-3 label.sk-toggleable__label-arrow:before {content: \"▸\";float: left;margin-right: 0.25em;color: #696969;}#sk-container-id-3 label.sk-toggleable__label-arrow:hover:before {color: black;}#sk-container-id-3 div.sk-estimator:hover label.sk-toggleable__label-arrow:before {color: black;}#sk-container-id-3 div.sk-toggleable__content {max-height: 0;max-width: 0;overflow: hidden;text-align: left;background-color: #f0f8ff;}#sk-container-id-3 div.sk-toggleable__content pre {margin: 0.2em;color: black;border-radius: 0.25em;background-color: #f0f8ff;}#sk-container-id-3 input.sk-toggleable__control:checked~div.sk-toggleable__content {max-height: 200px;max-width: 100%;overflow: auto;}#sk-container-id-3 input.sk-toggleable__control:checked~label.sk-toggleable__label-arrow:before {content: \"▾\";}#sk-container-id-3 div.sk-estimator input.sk-toggleable__control:checked~label.sk-toggleable__label {background-color: #d4ebff;}#sk-container-id-3 div.sk-label input.sk-toggleable__control:checked~label.sk-toggleable__label {background-color: #d4ebff;}#sk-container-id-3 input.sk-hidden--visually {border: 0;clip: rect(1px 1px 1px 1px);clip: rect(1px, 1px, 1px, 1px);height: 1px;margin: -1px;overflow: hidden;padding: 0;position: absolute;width: 1px;}#sk-container-id-3 div.sk-estimator {font-family: monospace;background-color: #f0f8ff;border: 1px dotted black;border-radius: 0.25em;box-sizing: border-box;margin-bottom: 0.5em;}#sk-container-id-3 div.sk-estimator:hover {background-color: #d4ebff;}#sk-container-id-3 div.sk-parallel-item::after {content: \"\";width: 100%;border-bottom: 1px solid gray;flex-grow: 1;}#sk-container-id-3 div.sk-label:hover label.sk-toggleable__label {background-color: #d4ebff;}#sk-container-id-3 div.sk-serial::before {content: \"\";position: absolute;border-left: 1px solid gray;box-sizing: border-box;top: 0;bottom: 0;left: 50%;z-index: 0;}#sk-container-id-3 div.sk-serial {display: flex;flex-direction: column;align-items: center;background-color: white;padding-right: 0.2em;padding-left: 0.2em;position: relative;}#sk-container-id-3 div.sk-item {position: relative;z-index: 1;}#sk-container-id-3 div.sk-parallel {display: flex;align-items: stretch;justify-content: center;background-color: white;position: relative;}#sk-container-id-3 div.sk-item::before, #sk-container-id-3 div.sk-parallel-item::before {content: \"\";position: absolute;border-left: 1px solid gray;box-sizing: border-box;top: 0;bottom: 0;left: 50%;z-index: -1;}#sk-container-id-3 div.sk-parallel-item {display: flex;flex-direction: column;z-index: 1;position: relative;background-color: white;}#sk-container-id-3 div.sk-parallel-item:first-child::after {align-self: flex-end;width: 50%;}#sk-container-id-3 div.sk-parallel-item:last-child::after {align-self: flex-start;width: 50%;}#sk-container-id-3 div.sk-parallel-item:only-child::after {width: 0;}#sk-container-id-3 div.sk-dashed-wrapped {border: 1px dashed gray;margin: 0 0.4em 0.5em 0.4em;box-sizing: border-box;padding-bottom: 0.4em;background-color: white;}#sk-container-id-3 div.sk-label label {font-family: monospace;font-weight: bold;display: inline-block;line-height: 1.2em;}#sk-container-id-3 div.sk-label-container {text-align: center;}#sk-container-id-3 div.sk-container {/* jupyter's `normalize.less` sets `[hidden] { display: none; }` but bootstrap.min.css set `[hidden] { display: none !important; }` so we also need the `!important` here to be able to override the default hidden behavior on the sphinx rendered scikit-learn.org. See: https://github.com/scikit-learn/scikit-learn/issues/21755 */display: inline-block !important;position: relative;}#sk-container-id-3 div.sk-text-repr-fallback {display: none;}</style><div id=\"sk-container-id-3\" class=\"sk-top-container\"><div class=\"sk-text-repr-fallback\"><pre>NearestNeighbors(n_neighbors=10)</pre><b>In a Jupyter environment, please rerun this cell to show the HTML representation or trust the notebook. <br />On GitHub, the HTML representation is unable to render, please try loading this page with nbviewer.org.</b></div><div class=\"sk-container\" hidden><div class=\"sk-item\"><div class=\"sk-estimator sk-toggleable\"><input class=\"sk-toggleable__control sk-hidden--visually\" id=\"sk-estimator-id-3\" type=\"checkbox\" checked><label for=\"sk-estimator-id-3\" class=\"sk-toggleable__label sk-toggleable__label-arrow\">NearestNeighbors</label><div class=\"sk-toggleable__content\"><pre>NearestNeighbors(n_neighbors=10)</pre></div></div></div></div></div>"
      ],
      "text/plain": [
       "NearestNeighbors(n_neighbors=10)"
      ]
     },
     "execution_count": 55,
     "metadata": {},
     "output_type": "execute_result"
    }
   ],
   "source": [
    "nn = NearestNeighbors(n_neighbors=10)\n",
    "nn.fit(embeddings)"
   ]
  },
  {
   "cell_type": "code",
   "execution_count": 56,
   "id": "36f71938",
   "metadata": {},
   "outputs": [],
   "source": [
    "def recommend(text):\n",
    "    emb = embed(text)\n",
    "    neighbors = nn.kneighbors(emb,return_distance=False)[0]\n",
    "    return recipe_df['recipe_name'].iloc[neighbors].tolist()"
   ]
  },
  {
   "cell_type": "code",
   "execution_count": null,
   "id": "fa0ce260",
   "metadata": {},
   "outputs": [],
   "source": []
  },
  {
   "cell_type": "code",
   "execution_count": 70,
   "id": "b120cf4a",
   "metadata": {},
   "outputs": [
    {
     "data": {
      "text/plain": [
       "['Italian Chickpea Bread Recipe - Allrecipes.com',\n",
       " 'Capsicum Zunka Recipe - Allrecipes.com',\n",
       " 'Simple Besan Ladoo Recipe - Allrecipes.com',\n",
       " 'Yellow Tarka Dal Recipe - Allrecipes.com',\n",
       " 'Masur Dahl Recipe - Allrecipes.com',\n",
       " 'Italian Beef for Sandwiches Recipe - Allrecipes.com',\n",
       " 'Black Chana with Potato Recipe - Allrecipes.com',\n",
       " 'Baked Onion Bhajis Recipe - Allrecipes.com',\n",
       " 'Spaghetti Olio Recipe - Allrecipes.com',\n",
       " 'Insalata Caprese I Recipe - Allrecipes.com']"
      ]
     },
     "execution_count": 70,
     "metadata": {},
     "output_type": "execute_result"
    }
   ],
   "source": [
    "recommend(['chickpea'])"
   ]
  },
  {
   "cell_type": "code",
   "execution_count": 67,
   "id": "2a8fc0e0",
   "metadata": {},
   "outputs": [],
   "source": [
    "import pickle\n",
    "filename=\"rec.sav\"\n",
    "pickle.dump(nn,open(filename,\"wb\"))"
   ]
  },
  {
   "cell_type": "code",
   "execution_count": 68,
   "id": "895d199a",
   "metadata": {},
   "outputs": [],
   "source": [
    "load_model = pickle.load(open(filename,\"rb\"))"
   ]
  },
  {
   "cell_type": "code",
   "execution_count": 69,
   "id": "7cec50e4",
   "metadata": {},
   "outputs": [
    {
     "name": "stdout",
     "output_type": "stream",
     "text": [
      "['New York Italian Pizza Dough Recipe - Allrecipes.com', 'Roomali Roti Recipe - Allrecipes.com', 'Mediterranean Casserole Recipe - Allrecipes.com', 'Caprese on Toast Recipe - Allrecipes.com', 'Biga Recipe - Allrecipes.com', 'Fried Squash Blossoms Recipe - Allrecipes.com', \"Chef John's Rustic Italian Corn Bread  Recipe - Allrecipes.com\", 'Sfincione Siciliano Pizza Recipe - Allrecipes.com', 'Strawberry Goat Cheese Bruschetta Recipe - Allrecipes.com', \"Lisa's Best Ever Garlic Bread Recipe - Allrecipes.com\"]\n"
     ]
    }
   ],
   "source": [
    "neighbors = load_model.kneighbors(e,return_distance=False)[0]\n",
    "print(recipe_df['recipe_name'].iloc[neighbors].tolist())"
   ]
  },
  {
   "cell_type": "code",
   "execution_count": null,
   "id": "faf445d7",
   "metadata": {},
   "outputs": [],
   "source": []
  },
  {
   "cell_type": "code",
   "execution_count": null,
   "id": "817c8ef0",
   "metadata": {},
   "outputs": [],
   "source": []
  }
 ],
 "metadata": {
  "kernelspec": {
   "display_name": "Python 3 (ipykernel)",
   "language": "python",
   "name": "python3"
  },
  "language_info": {
   "codemirror_mode": {
    "name": "ipython",
    "version": 3
   },
   "file_extension": ".py",
   "mimetype": "text/x-python",
   "name": "python",
   "nbconvert_exporter": "python",
   "pygments_lexer": "ipython3",
   "version": "3.10.7"
  }
 },
 "nbformat": 4,
 "nbformat_minor": 5
}
